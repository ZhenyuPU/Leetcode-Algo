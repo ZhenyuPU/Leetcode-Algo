{
 "cells": [
  {
   "cell_type": "markdown",
   "metadata": {},
   "source": [
    "# Backtracking Algorithm\n",
    "\n",
    "「回溯算法 backtracking algorithm」是一种通过穷举来解决问题的方法，它的核心思想是从一个初始状态\n",
    "出发，暴力搜索所有可能的解决方案，当遇到正确的解则将其记录，直到找到解或者尝试了所有可能的选择\n",
    "都无法找到解为止。\n",
    "\n",
    "回溯算法通常采用“深度优先搜索”来遍历解空间。"
   ]
  },
  {
   "cell_type": "markdown",
   "metadata": {},
   "source": [
    "46. 全排列\n",
    "\n",
    "给定一个不含重复数字的数组 nums ，返回其 所有可能的全排列 。你可以 按任意顺序 返回答案。\n",
    "\n",
    "示例 1：\n",
    "\n",
    "输入：nums = [1,2,3]\n",
    "\n",
    "输出：[[1,2,3],[1,3,2],[2,1,3],[2,3,1],[3,1,2],[3,2,1]]\n",
    "\n",
    "示例 2：\n",
    "\n",
    "输入：nums = [0,1]\n",
    "\n",
    "输出：[[0,1],[1,0]]\n",
    "\n",
    "示例 3：\n",
    "\n",
    "输入：nums = [1]\n",
    "\n",
    "输出：[[1]]"
   ]
  },
  {
   "cell_type": "code",
   "execution_count": null,
   "metadata": {},
   "outputs": [],
   "source": [
    "from typing import List\n",
    "class Solution:\n",
    "    def permute(self, nums: List[int]) -> List[List[int]]:\n",
    "        def is_solution(state: List[int], choices: List[int]) -> bool:\n",
    "            if len(state) == len(choices):\n",
    "                return True\n",
    "        \n",
    "        def record_solution(state: List[int], res: List[int]):               \n",
    "            res.append(list(state))\n",
    "        \n",
    "        def is_valid(i, selected: List[bool]) -> bool:\n",
    "            if not selected[i]:\n",
    "                return True\n",
    "        \n",
    "        def make_choice(state: List[int], choice: int):\n",
    "            state.append(choice)\n",
    "\n",
    "        def undo_choice(state):\n",
    "            state.pop()            \n",
    "        \n",
    "        def backtracking(state: List[int], choices: List[int], res: List[int], selected: List[bool]) -> List[int]:\n",
    "            if is_solution(state, choices):\n",
    "                record_solution(state, res)\n",
    "                return\n",
    "            for i, choice in enumerate(choices):\n",
    "                if is_valid(i, selected):\n",
    "                    selected[i] = True\n",
    "                    make_choice(state, choice)\n",
    "                    backtracking(state, choices, res, selected)\n",
    "                    selected[i] = False\n",
    "                    undo_choice(state)\n",
    "            return res\n",
    "        state = []\n",
    "        res = []\n",
    "        selected = [False] * len(nums)\n",
    "        return backtracking(state, nums, res, selected)\n",
    "    \n",
    "\n",
    "nums = [1, 2, 3]\n",
    "s = Solution()\n",
    "print(s.permute(nums))"
   ]
  },
  {
   "cell_type": "markdown",
   "metadata": {},
   "source": [
    "```python\n",
    "res.append(list(state))：\n",
    "\n",
    "这将创建 state 的一个新副本，并将副本添加到 res 列表中。\n",
    "如果 state 是一个可变对象（如列表或字典），则更改副本不会影响原始 state。\n",
    "这是一种常见的方式，用于确保列表 res 中的元素是原始 state 的副本，而不是引用。\n",
    "```\n",
    "\n",
    "```python\n",
    "res.append(state)：\n",
    "\n",
    "这将直接将 state 添加到 res 列表中。\n",
    "如果 state 是一个可变对象，那么对 state 的后续更改也将反映在 res 中，因为它们引用了相同的对象。\n",
    "这在某些情况下可能是有用的，如果您想要在 res 中保留对原始对象的引用，以便在后续操作中对其进行修改。\n",
    "```"
   ]
  },
  {
   "cell_type": "markdown",
   "metadata": {},
   "source": [
    "47. 全排列2\n",
    "\n",
    "给定一个可包含重复数字的序列 nums ，按任意顺序 返回所有不重复的全排列。\n",
    "\n",
    "输入：nums = [1,1,2]\n",
    "\n",
    "输出：\n",
    "[[1,1,2],\n",
    " [1,2,1],\n",
    " [2,1,1]]\n",
    "\n",
    "示例 2：\n",
    "\n",
    "输入：nums = [1,2,3]\n",
    "\n",
    "输出：[[1,2,3],[1,3,2],[2,1,3],[2,3,1],[3,1,2],[3,2,1]]"
   ]
  },
  {
   "cell_type": "code",
   "execution_count": 36,
   "metadata": {},
   "outputs": [
    {
     "name": "stdout",
     "output_type": "stream",
     "text": [
      "[[1, 1, 2], [1, 2, 1], [2, 1, 1]]\n"
     ]
    }
   ],
   "source": [
    "from typing import List\n",
    "class Solution:\n",
    "    def permuteUnique(self, nums: List[int]) -> List[List[int]]:\n",
    "        def is_solution(state, choices):\n",
    "            if len(state) == len(choices):\n",
    "                return True\n",
    "        \n",
    "        def record_solution(state, res):\n",
    "            res.append(list(state))\n",
    "        \n",
    "        def is_valid(choice, selected, i, duplicated):\n",
    "            if not selected[i] and choice not in duplicated:\n",
    "                return True\n",
    "    \n",
    "        def make_choice(state, choice):\n",
    "            state.append(choice)\n",
    "        \n",
    "        def undo_choice(state):\n",
    "            state.pop()\n",
    "\n",
    "        def backtracking(state: List[int], choices: list[int], res: list[int], selected: list[bool]):\n",
    "            duplicated = set[int]()\n",
    "            if is_solution(state, choices):\n",
    "                record_solution(state, res)\n",
    "                return\n",
    "            for i, choice in enumerate(choices):\n",
    "                if is_valid(choice, selected, i, duplicated):\n",
    "                    duplicated.add(choice)\n",
    "                    selected[i] = True\n",
    "                    make_choice(state, choice)\n",
    "                    backtracking(state, choices, res, selected)\n",
    "                    selected[i] = False\n",
    "                    undo_choice(state)\n",
    "            return res\n",
    "        \n",
    "        res = []\n",
    "        return backtracking(state = [], choices = nums, res = res, selected = [False] * len(nums))\n",
    "    \n",
    "\n",
    "\n",
    "nums = [1,1,2]\n",
    "s = Solution()\n",
    "print(s.permuteUnique(nums))\n"
   ]
  },
  {
   "cell_type": "markdown",
   "metadata": {},
   "source": [
    "`set[int]()` 这个表达式实际上是在创建一个空的整数集合（set），这个集合可以用来存储整数值，并且具有一些有趣的特性：\n",
    "\n",
    "去重功能：集合是一个无序的容器，它不允许重复元素。这意味着如果您向集合中添加相同的整数多次，它们只会在集合中出现一次，因为集合只会保留唯一的元素。\n",
    "\n",
    "快速查找：集合实现了高效的查找操作，平均时间复杂度为 O(1)。这使得您可以快速检查一个整数是否存在于集合中，而不需要遍历整个集合。\n",
    "\n",
    "数学集合操作：集合还支持各种集合操作，如并集、交集、差集等，这些操作可以帮助您执行各种有趣的集合操作。"
   ]
  },
  {
   "cell_type": "markdown",
   "metadata": {},
   "source": []
  },
  {
   "cell_type": "code",
   "execution_count": null,
   "metadata": {},
   "outputs": [],
   "source": []
  },
  {
   "cell_type": "code",
   "execution_count": null,
   "metadata": {},
   "outputs": [],
   "source": []
  }
 ],
 "metadata": {
  "kernelspec": {
   "display_name": "base",
   "language": "python",
   "name": "python3"
  },
  "language_info": {
   "codemirror_mode": {
    "name": "ipython",
    "version": 3
   },
   "file_extension": ".py",
   "mimetype": "text/x-python",
   "name": "python",
   "nbconvert_exporter": "python",
   "pygments_lexer": "ipython3",
   "version": "3.9.18"
  },
  "orig_nbformat": 4
 },
 "nbformat": 4,
 "nbformat_minor": 2
}

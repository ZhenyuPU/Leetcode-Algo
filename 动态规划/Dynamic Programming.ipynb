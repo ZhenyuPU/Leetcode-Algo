{
 "cells": [
  {
   "cell_type": "markdown",
   "metadata": {},
   "source": [
    "# DP problem\n"
   ]
  },
  {
   "cell_type": "code",
   "execution_count": null,
   "metadata": {},
   "outputs": [],
   "source": [
    "# dp method:\n",
    "def knapsack_dp(wgt: list[int], val: list[int], cap: int) -> int:\n",
    "    # dp[i][c] = max(dp[i-1][c], dp[i-1][c-wgt[i-1]] + val[i-1])\n",
    "    n = len(wgt)\n",
    "    # initialize the 2D-matrix dp\n",
    "    dp = [[0] * cap for _ in range(n+1)]\n",
    "    for i in range(1, n+1):\n",
    "        for c in range(1, cap+1):\n",
    "            if c < wgt[i-1]:\n",
    "                dp[i][c] = dp[i-1][c]\n",
    "            else:\n",
    "                dp[i][c] = max(dp[i-1][c], dp[i-1][c-wgt[i-1]] + val[i-1])\n",
    "\n",
    "    return dp[n][cap]\n"
   ]
  },
  {
   "cell_type": "markdown",
   "metadata": {},
   "source": [
    "Les complexités temporelle et sptialle dépendent de dp. Elles sont O(n*cap)"
   ]
  },
  {
   "cell_type": "code",
   "execution_count": null,
   "metadata": {},
   "outputs": [],
   "source": [
    "# Brute force search\n",
    "def knapsack_dfs(wgt: list[int], val: list[int], i: int, c: int):\n",
    "    if i == 0 or c == 0:\n",
    "        return 0\n",
    "    "
   ]
  },
  {
   "cell_type": "markdown",
   "metadata": {},
   "source": [
    "Utilisant un tableau pour accomplir dp.\n",
    "Voici l'amélioration spatialle."
   ]
  },
  {
   "cell_type": "code",
   "execution_count": null,
   "metadata": {},
   "outputs": [],
   "source": [
    "def knapsack_dp_comp(wgt: list[int], val: list[int], cap: int) -> int:\n",
    "    n = len(wgt)\n",
    "    # initialize\n",
    "    dp = [0] * (cap + 1)\n",
    "    # state transformation\n",
    "    for i in range(n+1):\n",
    "        # inverse\n",
    "        for c in range(cap+1, 0, -1):\n",
    "            if c < wgt[i-1]:\n",
    "                dp[c] = dp[c]\n",
    "            else:\n",
    "                dp[c] = max(dp[c], dp[c - wgt[i-1]] + val[i-1])\n",
    "\n",
    "    return dp[cap]\n"
   ]
  },
  {
   "cell_type": "markdown",
   "metadata": {},
   "source": [
    "# Complete knapsack problem\n",
    "\n",
    "Each item can be selected repeatedly"
   ]
  },
  {
   "cell_type": "code",
   "execution_count": null,
   "metadata": {},
   "outputs": [],
   "source": [
    "def unbounded_knapsack_dp(wgt: list[int], val: list[int], cap: int) -> int:\n",
    "    # quantity\n",
    "    n = len(wgt)\n",
    "    # initilize\n",
    "    dp = [[0] * (cap+1) for _ in range(n+1)]\n",
    "    # state\n",
    "    for i in range(1, n+1):\n",
    "        for c in range(1, cap+1):\n",
    "            if c < wgt[i-1]:\n",
    "                dp[i][c] = dp[i-1][c]\n",
    "            else:\n",
    "                dp[i][c] = dp[i, c - wgt[i-1]] + val[i-1]\n",
    "    return dp[n][cap]\n"
   ]
  },
  {
   "cell_type": "code",
   "execution_count": null,
   "metadata": {},
   "outputs": [],
   "source": [
    "def unbounded_knapsack_dp_comp(wgt: list[int], val: list[int], cap: int) -> int:\n",
    "    # quantity\n",
    "    n = len(wgt)\n",
    "    # initilize\n",
    "    dp = [0] * (cap+1)\n",
    "    # state\n",
    "    for i in range(1, n+1):\n",
    "        for c in range(1, cap+1):\n",
    "            if c < wgt[i-1]:\n",
    "                dp[c] = dp[c]\n",
    "            else:\n",
    "                dp[c] = dp[c - wgt[i-1]] + val[i-1]\n",
    "    return dp[cap]\n"
   ]
  },
  {
   "cell_type": "markdown",
   "metadata": {},
   "source": [
    "# Change exchange problem\n",
    "\n",
    "给定 𝑛 种硬币，第 𝑖 种硬币的面值为 𝑐𝑜𝑖𝑛𝑠[𝑖 − 1] ，目标金额为 𝑎𝑚𝑡 ，每种硬币可以重复选\n",
    "取，问能够凑出目标金额的最少硬币个数。如果无法凑出目标金额则返回 −1 。"
   ]
  },
  {
   "cell_type": "code",
   "execution_count": null,
   "metadata": {},
   "outputs": [],
   "source": [
    "def exchange_coins(coins: list[int], amt: int) -> int:\n",
    "    # kinds\n",
    "    n = len(coins)\n",
    "    # initialize\n",
    "    dp = [[0] * (amt+1) for _ in range(n+1)]\n",
    "    Max = amt+1\n",
    "    for a in range(1, amt+1):\n",
    "        dp[0][a] = Max\n",
    "\n",
    "    for i in range(1, n+1):\n",
    "        for a in range(1, amt+1):\n",
    "            if a < coins[i-1]:\n",
    "                dp[i][a] = dp[i-1][a]\n",
    "            else:\n",
    "                dp[i][a] = min(dp[i-1][a], dp[i][a-coins[i-1]] + 1)\n",
    "\n",
    "    return dp[n][amt] if dp[n][amt] != Max else -1\n",
    "\n",
    "\n",
    "if __name__ == \"__main__\":\n",
    "    coins = [1, 2, 5]\n",
    "    amt = 11\n",
    "    print(exchange_coins(coins, amt))\n"
   ]
  },
  {
   "cell_type": "code",
   "execution_count": null,
   "metadata": {},
   "outputs": [],
   "source": [
    "def coin_change_ii_dp(coins: list[int], amt: int) -> int:\n",
    "    # 零钱兑换 II:动态规划\n",
    "    n = len(coins)\n",
    "    # 初始化 dp 表\n",
    "    dp = [[0] * (amt + 1) for _ in range(n + 1)]\n",
    "    # 初始化首列\n",
    "    for i in range(n + 1):\n",
    "        dp[i][0] = 1\n",
    "    # 状态转移\n",
    "    for i in range(1, n + 1):\n",
    "        for a in range(1, amt + 1):\n",
    "            if coins[i - 1] > a:\n",
    "                # 若超过背包容量，则不选硬币 i\n",
    "                dp[i][a] = dp[i - 1][a]\n",
    "            else:\n",
    "                # 不选和选硬币 i 这两种方案之和\n",
    "                dp[i][a] = dp[i - 1][a] + dp[i][a - coins[i - 1]]\n",
    "    return dp[n][amt]\n"
   ]
  },
  {
   "cell_type": "markdown",
   "metadata": {},
   "source": [
    "# Edit distance problem\n",
    "\n"
   ]
  },
  {
   "cell_type": "code",
   "execution_count": null,
   "metadata": {},
   "outputs": [],
   "source": [
    "def edit_distance_dp(s: str, t: str) -> int:\n",
    "    # length\n",
    "    n = len(s)\n",
    "    m = len(t)\n",
    "    # initialize\n",
    "    dp = [[0] * (m+1) for _ in range(n+1)]\n",
    "\n",
    "    for i in range(1, n+1):\n",
    "        dp[i][0] = i\n",
    "\n",
    "    for j in range(1, m+1):\n",
    "        dp[0][j] = j\n",
    "    \n",
    "    for i in range(1, n+1):\n",
    "        for j in range(1, m+1):\n",
    "            if s[i-1] == s[j-1]:\n",
    "                dp[i][j] = dp[i-1][j-1]\n",
    "            else:\n",
    "                dp[i][j] = min(dp[i-1][j], dp[i][j-1], dp[i-1][j+1]) + 1\n",
    "    return dp[n][m]"
   ]
  },
  {
   "cell_type": "markdown",
   "metadata": {},
   "source": [
    "![image](https://cdn.statically.io/gh/ZhenyuPU/picx-images-hosting@master/20231021/image.727y7vb33s40.webp)"
   ]
  },
  {
   "cell_type": "code",
   "execution_count": 19,
   "metadata": {},
   "outputs": [
    {
     "name": "stdout",
     "output_type": "stream",
     "text": [
      "([22, 20, 25, 26], [[0, 2, 3, 3], [1, 1, 3, 3], [0, 2, 2, 2], [0, 1, 2, 3]])\n"
     ]
    }
   ],
   "source": [
    "# dp[i, j] = min(dp[i-1, j-1], dp[i+1, j-1]) + grid[i, j]\n",
    "def somme_des(A):\n",
    "    dp = [[0 for _ in range(len(A[0]))] for _ in range(len(A))]\n",
    "    chemin = [[0 for _ in range(len(A[0]))] for _ in range(len(A))]\n",
    "    for i in range(len(A[0])):\n",
    "        dp[len(A) - 1][i] = A[len(A) - 1][i]\n",
    "        chemin[len(A) - 1][i] = i\n",
    "    # 应该选下面最大而不是上面一排最大，应该倒着来\n",
    "    for i in range(len(A)-1, 0, -1):\n",
    "        for j in range(len(A[0])):\n",
    "            s = dp[i][j]\n",
    "            k = j\n",
    "            if j < len(A[0]) - 1 and dp[i][j+1] > s:\n",
    "                s = dp[i][j+1]\n",
    "                k = j+1\n",
    "            elif j > 0 and dp[i][j-1] > s:\n",
    "                s = dp[i][j-1]\n",
    "                k = j - 1\n",
    "            # dp[i-1][j] = max(dp[i][j-1], dp[i][j], dp[i][j+1]) + A[i-1][j]\n",
    "            dp[i-1][j] = s + A[i-1][j]\n",
    "            chemin[i-1][j] = k  \n",
    "    return (dp[0], chemin)\n",
    "\n",
    "A = [[4, 5, 8, 9],\n",
    "     [7, 3, 4, 6],\n",
    "     [1, 5, 2, 5],\n",
    "     [9, 2, 6, 4]]\n",
    "\n",
    "print(somme_des(A))"
   ]
  },
  {
   "cell_type": "markdown",
   "metadata": {},
   "source": [
    "![image](https://cdn.statically.io/gh/ZhenyuPU/picx-images-hosting@master/20231021/image.7fs1bexocd00.webp)"
   ]
  },
  {
   "cell_type": "code",
   "execution_count": null,
   "metadata": {},
   "outputs": [],
   "source": [
    "# mnq\n",
    "\n",
    "# mnq + mqp\n",
    "\n",
    "# P(n) = \\sum_{i=1}{n-1} P(i)P(n-i) n > 1\n",
    "#      =  1                         n = 1"
   ]
  },
  {
   "cell_type": "markdown",
   "metadata": {},
   "source": [
    "![image](https://cdn.statically.io/gh/ZhenyuPU/picx-images-hosting@master/20231021/image.3n0u3xxpss00.webp)"
   ]
  },
  {
   "cell_type": "code",
   "execution_count": null,
   "metadata": {},
   "outputs": [],
   "source": [
    "def matrix_desc(A, n):\n",
    "    P = [[0 for _ in range(n)] for _ in range(n)]\n",
    "    P = [1 for _ in range(n)]\n",
    "    P[0] = 1\n",
    "    for i in range(n):\n",
    "        for j in range(i, -1, -1):\n",
    "            P[i] = P[j] * P[i]\n",
    "    return P"
   ]
  }
 ],
 "metadata": {
  "kernelspec": {
   "display_name": "base",
   "language": "python",
   "name": "python3"
  },
  "language_info": {
   "codemirror_mode": {
    "name": "ipython",
    "version": 3
   },
   "file_extension": ".py",
   "mimetype": "text/x-python",
   "name": "python",
   "nbconvert_exporter": "python",
   "pygments_lexer": "ipython3",
   "version": "3.9.18"
  },
  "orig_nbformat": 4
 },
 "nbformat": 4,
 "nbformat_minor": 2
}

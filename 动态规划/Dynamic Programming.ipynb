{
 "cells": [
  {
   "cell_type": "markdown",
   "metadata": {},
   "source": [
    "# DP problem\n"
   ]
  },
  {
   "cell_type": "code",
   "execution_count": null,
   "metadata": {},
   "outputs": [],
   "source": [
    "# dp method:\n",
    "def knapsack_dp(wgt: list[int], val: list[int], cap: int) -> int:\n",
    "    # dp[i][c] = max(dp[i-1][c], dp[i-1][c-wgt[i-1]] + val[i-1])\n",
    "    n = len(wgt)\n",
    "    # initialize the 2D-matrix dp\n",
    "    dp = [[0] * cap for _ in range(n+1)]\n",
    "    for i in range(1, n+1):\n",
    "        for c in range(1, cap+1):\n",
    "            if c < wgt[i-1]:\n",
    "                dp[i][c] = dp[i-1][c]\n",
    "            else:\n",
    "                dp[i][c] = max(dp[i-1][c], dp[i-1][c-wgt[i-1]] + val[i-1])\n",
    "    \n",
    "    return dp[n][cap]"
   ]
  },
  {
   "cell_type": "markdown",
   "metadata": {},
   "source": [
    "Les complexités temporelle et sptialle dépendent de dp. Elles sont O(n*cap)"
   ]
  },
  {
   "cell_type": "code",
   "execution_count": null,
   "metadata": {},
   "outputs": [],
   "source": [
    "# Brute force search\n",
    "def knapsack_dfs(wgt: list[int], val: list[int], i: int, c: int):\n",
    "    if i == 0 or c == 0:\n",
    "        return 0\n",
    "    "
   ]
  },
  {
   "cell_type": "markdown",
   "metadata": {},
   "source": [
    "Utilisant un tableau pour accomplir dp.\n",
    "Voici l'amélioration spatialle."
   ]
  },
  {
   "cell_type": "code",
   "execution_count": null,
   "metadata": {},
   "outputs": [],
   "source": [
    "def knapsack_dp_comp(wgt: list[int], val: list[int], cap: int) -> int:"
   ]
  }
 ],
 "metadata": {
  "kernelspec": {
   "display_name": "base",
   "language": "python",
   "name": "python3"
  },
  "language_info": {
   "name": "python",
   "version": "3.9.18"
  },
  "orig_nbformat": 4
 },
 "nbformat": 4,
 "nbformat_minor": 2
}

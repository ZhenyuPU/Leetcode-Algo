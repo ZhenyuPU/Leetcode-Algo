{
 "cells": [
  {
   "cell_type": "markdown",
   "metadata": {},
   "source": [
    "给你一个链表数组，每个链表都已经按升序排列。\n",
    "\n",
    "请你将所有链表合并到一个升序链表中，返回合并后的链表。\n",
    "输入: lists = [[1,4,5],[1,3,4],[2,6]]\n",
    "输出：[1,1,2,3,4,4,5,6]\n",
    "解释：链表数组如下：\n",
    "[\n",
    "  1->4->5,\n",
    "  1->3->4,\n",
    "  2->6\n",
    "]\n",
    "将它们合并到一个有序链表中得到。\n",
    "1->1->2->3->4->4->5->6"
   ]
  },
  {
   "cell_type": "code",
   "execution_count": null,
   "metadata": {},
   "outputs": [],
   "source": [
    "class ListNode:\n",
    "     def __init__(self, val=0, next=None):\n",
    "         self.val = val\n",
    "         self.next = next\n",
    "\n",
    "class Solution:\n",
    "    def mergeKLists(self, lists: list[Optional[ListNode]]) -> Optional[ListNode]:\n",
    "        if not lists:\n",
    "            return None\n",
    "        return self.sortmerge(lists)\n",
    "    \n",
    "    def sortmerge(self, lists: list[Optional[ListNode]], left: int, right: int):\n",
    "        if left == right:\n",
    "            return lists\n",
    "        mid = left + (right - left) // 2\n",
    "        lists_left = self.sortmerge(lists, left, mid)\n",
    "        lists_right = self.sortmerge(lists, mid + 1, right)\n",
    "        return self.merge(lists_left, lists_right)\n",
    "\n",
    "\n",
    "    def merge(self, left: list[ListNode], right: list[ListNode]):\n",
    "        # 分治到只剩左右两个\n",
    "        arr = ListNode(-1)\n",
    "        while left and right:\n",
    "            if left.val <= right.val:\n",
    "                arr.val = left.val\n",
    "                left = left.next\n",
    "            else:\n",
    "                arr.val = right.val\n",
    "                right = right.next\n",
    "            arr = arr.next\n",
    "        if left:\n",
    "            arr.next = left\n",
    "        if right:\n",
    "            arr.next = right"
   ]
  },
  {
   "cell_type": "markdown",
   "metadata": {},
   "source": [
    "给定两个大小分别为 m 和 n 的正序（从小到大）数组 nums1 和 nums2。请你找出并返回这两个正序数组的 中位数 。\n",
    "\n",
    "算法的时间复杂度应该为 O(log (m+n)) 。"
   ]
  },
  {
   "cell_type": "code",
   "execution_count": null,
   "metadata": {},
   "outputs": [],
   "source": [
    "class Solution:\n",
    "    def findMedianSortedArrays(self, nums1: list[int], nums2: list[int]) -> float:\n",
    "        arr = []\n",
    "        n = len(nums1)+len(nums2)\n",
    "        n1 = len(nums1)\n",
    "        n2 = len(nums2)\n",
    "        l = 0\n",
    "        k = (n + 1) // 2\n",
    "        left, right = 0, n1\n",
    "        while left < right:\n",
    "            m1 = left + (right - left) // 2\n",
    "            m2 = k - m1\n",
    "            # 判断nums1[m1]一下是否把中位数包括，若不包括则说明还在nums[m1]之上，继续增加m1的值\n",
    "            if nums1[m1] < nums2[m2 - 1]:\n",
    "                left = m1 + 1                      # 小于说明不包括，得增加中值，让left等于m1+1，中值在此之上\n",
    "            else:\n",
    "                right = m1                         # 大于说明包括，让right = m1，去下面找中值\n",
    "        \n",
    "        m1 = left\n",
    "        m2 = k - m1\n",
    "        c1 = max(float('-inf') if m1 <= 0 else nums1[m1 - 1], float('-inf') if m2 <= 0 else nums2[m2 - 1])\n",
    "        if (n1 + n2) % 2 == 1:\n",
    "            return c1\n",
    "\n",
    "        c2 = min(float('inf') if m1 >= n1 else nums1[m1], float('inf') if m2 >= n2 else nums2[m2])\n",
    "\n",
    "        return (c1 + c2) / 2\n",
    "\n",
    "\n",
    "\n",
    "nums1 = [1, 3]\n",
    "nums2 = [2]\n",
    "s = Solution()\n",
    "print(s.findMedianSortedArrays(nums1, nums2))"
   ]
  },
  {
   "cell_type": "markdown",
   "metadata": {},
   "source": [
    "Given a string expression of numbers and operators, return all possible results from computing all the different possible ways to group numbers and operators. You may return the answer in any order.\n",
    "\n",
    "The test cases are generated such that the output values fit in a 32-bit integer and the number of different results does not exceed 104.\n",
    "Example 1:\n",
    "\n",
    "Input: expression = \"2-1-1\"\n",
    "Output: [0,2]\n",
    "Explanation:\n",
    "((2-1)-1) = 0 \n",
    "(2-(1-1)) = 2\n",
    "Example 2:\n",
    "\n",
    "Input: expression = \"2*3-4*5\"\n",
    "Output: [-34,-14,-10,-10,10]\n",
    "Explanation:\n",
    "(2*(3-(4*5))) = -34 \n",
    "((2*3)-(4*5)) = -14 \n",
    "((2*(3-4))*5) = -10 \n",
    "(2*((3-4)*5)) = -10 \n",
    "(((2*3)-4)*5) = 10"
   ]
  },
  {
   "cell_type": "code",
   "execution_count": 1,
   "metadata": {},
   "outputs": [
    {
     "name": "stdout",
     "output_type": "stream",
     "text": [
      "[-34, -10, -14, -10, 10]\n"
     ]
    }
   ],
   "source": [
    "from typing import List\n",
    "class Solution:\n",
    "    def diffWaysToCompute(self, expression: str) -> List[int]:\n",
    "        res = []\n",
    "        if len(expression) <= 2:\n",
    "            res.append(int(expression))\n",
    "            return res\n",
    "        \n",
    "        for i in range(len(expression)):\n",
    "            ch = expression[i]\n",
    "            if ch == '+' or ch == '-' or ch == '*':\n",
    "                left_cnts = self.diffWaysToCompute(expression[ :i])\n",
    "                right_cnts = self.diffWaysToCompute(expression[i + 1:])\n",
    "\n",
    "                for left in left_cnts:\n",
    "                    for right in right_cnts:\n",
    "                        if ch == '+':\n",
    "                            res.append(left + right)\n",
    "                        elif ch == '-':\n",
    "                            res.append(left - right)\n",
    "                        else:\n",
    "                            res.append(left * right)\n",
    "        \n",
    "        return res\n",
    "\n",
    "\n",
    "expression = \"2*3-4*5\"\n",
    "s = Solution()\n",
    "print(s.diffWaysToCompute(expression))"
   ]
  },
  {
   "cell_type": "markdown",
   "metadata": {},
   "source": [
    "169. Majority Element\n",
    "\n",
    "Given an array nums of size n, return the majority element.\n",
    "\n",
    "The majority element is the element that appears more than ⌊n / 2⌋ times. You may assume that the majority element always exists in the array.\n",
    "\n",
    "Example 1:\n",
    "\n",
    "Input: nums = [3,2,3]\n",
    "Output: 3\n",
    "Example 2:\n",
    "\n",
    "Input: nums = [2,2,1,1,1,2,2]\n",
    "Output: 2"
   ]
  },
  {
   "cell_type": "code",
   "execution_count": 6,
   "metadata": {},
   "outputs": [
    {
     "name": "stdout",
     "output_type": "stream",
     "text": [
      "3\n"
     ]
    }
   ],
   "source": [
    "from typing import List\n",
    "# 哈希表法:\n",
    "class Solution:\n",
    "    def majorityElement(self, nums: List[int]) -> int:\n",
    "        res = {}\n",
    "        for i in range(len(nums)):\n",
    "            if nums[i] not in res:\n",
    "                res[nums[i]] = 1\n",
    "            else:\n",
    "                res[nums[i]] += 1\n",
    "        \n",
    "        max = float('-inf')\n",
    "        max_index = -1\n",
    "        for i in res:\n",
    "            if res[i] > max:\n",
    "                max = res[i]\n",
    "                max_index = i\n",
    "        return max_index\n",
    "        # return max(res, key = res.get)\n",
    "    \n",
    "\n",
    "nums = [3,2,3]\n",
    "s = Solution()\n",
    "print(s.majorityElement(nums))\n",
    "\n",
    "        "
   ]
  },
  {
   "cell_type": "code",
   "execution_count": 7,
   "metadata": {},
   "outputs": [
    {
     "name": "stdout",
     "output_type": "stream",
     "text": [
      "3\n"
     ]
    }
   ],
   "source": [
    "from typing import List\n",
    "# 分治算法\n",
    "class Solution:\n",
    "    def majorityElement(self, nums: List[int]) -> int:\n",
    "        def get_mode(low, high):\n",
    "            if low == high:\n",
    "                return nums[low]\n",
    "            \n",
    "            mid = low + (high - low) // 2\n",
    "            left_mod = get_mode(low, mid)\n",
    "            right_mod = get_mode(mid + 1, high)\n",
    "\n",
    "            if left_mod == right_mod:\n",
    "                return left_mod\n",
    "\n",
    "            left_mod_cnt, right_mod_cnt = 0, 0\n",
    "            for i in range(low, high + 1):\n",
    "                if nums[i] == left_mod:\n",
    "                    left_mod_cnt += 1\n",
    "                if nums[i] == right_mod:\n",
    "                    right_mod_cnt += 1\n",
    "            \n",
    "            if left_mod_cnt > right_mod_cnt:\n",
    "                return left_mod\n",
    "            return right_mod\n",
    "\n",
    "        return get_mode(0, len(nums) - 1)\n",
    "\n",
    "\n",
    "\n",
    "nums = [3,2,3]\n",
    "s = Solution()\n",
    "print(s.majorityElement(nums))"
   ]
  },
  {
   "cell_type": "markdown",
   "metadata": {},
   "source": [
    "50. Pow(x, n)\n",
    "Implement pow(x, n), which calculates x raised to the power n (i.e., $x^n$).\n",
    "\n",
    "Example 1:\n",
    "\n",
    "Input: x = 2.00000, n = 10\n",
    "Output: 1024.00000"
   ]
  },
  {
   "cell_type": "code",
   "execution_count": 8,
   "metadata": {},
   "outputs": [
    {
     "name": "stdout",
     "output_type": "stream",
     "text": [
      "1024.0\n"
     ]
    }
   ],
   "source": [
    "class Solution:\n",
    "    def myPow(self, x: float, n: int) -> float:\n",
    "        if n < 2:\n",
    "            return x\n",
    "        return x*self.myPow(x, n-1)\n",
    "\n",
    "\n",
    "x =2.00000\n",
    "n = 10\n",
    "s = Solution()\n",
    "print(s.myPow(x, n))"
   ]
  },
  {
   "cell_type": "markdown",
   "metadata": {},
   "source": [
    "14. Longest common Prefix\n",
    "Write a function to find the longest common prefix string amongst an array of strings.\n",
    "\n",
    "If there is no common prefix, return an empty string \"\".\n",
    "\n",
    "Example 1:\n",
    "\n",
    "Input: strs = [\"flower\",\"flow\",\"flight\"]\n",
    "Output: \"fl\"\n",
    "Example 2:\n",
    "\n",
    "Input: strs = [\"dog\",\"racecar\",\"car\"]\n",
    "Output: \"\"\n",
    "Explanation: There is no common prefix among the input strings."
   ]
  },
  {
   "cell_type": "code",
   "execution_count": 12,
   "metadata": {},
   "outputs": [
    {
     "name": "stdout",
     "output_type": "stream",
     "text": [
      "c\n"
     ]
    }
   ],
   "source": [
    "from typing import List\n",
    "# 分治算法\n",
    "class Solution:\n",
    "    def longestCommonPrefix(self, strs: List[str]) -> str:\n",
    "        def get_mode(low, high):\n",
    "            if low == high:\n",
    "                return strs[low]\n",
    "            mid = low + (high - low) // 2\n",
    "            left = get_mode(low, mid)\n",
    "            right = get_mode(mid+1, high)\n",
    "            if left == right:\n",
    "                return left\n",
    "            L = min(len(left), len(right))\n",
    "            num = \"\"\n",
    "            i = 0\n",
    "            for i in range(L):\n",
    "                if left[i] == right[i]:\n",
    "                    num += left[i]\n",
    "                else:\n",
    "                    break\n",
    "            return num\n",
    "        return get_mode(0, len(strs)-1)\n",
    "    \n",
    "\n",
    "strs = [\"car\",\"cur\"]\n",
    "s = Solution()\n",
    "print(s.longestCommonPrefix(strs))"
   ]
  },
  {
   "cell_type": "code",
   "execution_count": null,
   "metadata": {},
   "outputs": [],
   "source": [
    "from typing import List\n",
    "class Solution:\n",
    "    def longestCommonPrefix(self, strs: List[str]) -> str:\n",
    "        if not strs:\n",
    "            return \"\"\n",
    "        length = len(strs[0])\n",
    "        count = len(strs)\n",
    "        for i in range(length):\n",
    "            c = strs[0][i]\n",
    "            for j in range(1, count):\n",
    "                if len(strs[j]) == i or strs[j][i] != c:\n",
    "                    return strs[0][:i]\n",
    "        return strs[0]\n"
   ]
  },
  {
   "cell_type": "markdown",
   "metadata": {},
   "source": [
    "33. Search in Rotated Sorted Array\n",
    "\n",
    "There is an integer array nums sorted in ascending order (with distinct values).\n",
    "\n",
    "Prior to being passed to your function, nums is possibly rotated at an unknown pivot index k (1 <= k < nums.length) such that the resulting array is [nums[k], nums[k+1], ..., nums[n-1], nums[0], nums[1], ..., nums[k-1]] (0-indexed). For example, [0,1,2,4,5,6,7] might be rotated at pivot index 3 and become [4,5,6,7,0,1,2].\n",
    "\n",
    "Given the array nums after the possible rotation and an integer target, return the index of target if it is in nums, or -1 if it is not in nums.\n",
    "\n",
    "You must write an algorithm with O(log n) runtime complexity.\n",
    "\n",
    "Example 1:\n",
    "\n",
    "Input: nums = [4,5,6,7,0,1,2], target = 0\n",
    "\n",
    "Output: 4\n",
    "\n",
    "Example 2:\n",
    "\n",
    "Input: nums = [4,5,6,7,0,1,2], target = 3\n",
    "\n",
    "Output: -1\n",
    "\n",
    "Example 3:\n",
    "\n",
    "Input: nums = [1], target = 0\n",
    "\n",
    "Output: -1"
   ]
  },
  {
   "cell_type": "code",
   "execution_count": 1,
   "metadata": {},
   "outputs": [
    {
     "name": "stdout",
     "output_type": "stream",
     "text": [
      "4\n"
     ]
    }
   ],
   "source": [
    "from typing import List\n",
    "class Solution:\n",
    "    def search(self, nums: List[int], target: int) -> int:\n",
    "        left = 0\n",
    "        right = len(nums) - 1\n",
    "        while left <= right:\n",
    "            mid = left + (right - left) // 2\n",
    "            if nums[mid] == target:\n",
    "                return mid\n",
    "\n",
    "            if nums[mid] >= nums[left]:\n",
    "                if nums[mid] > target and target >= nums[left]:\n",
    "                    right = mid - 1\n",
    "                else:\n",
    "                    left = mid + 1\n",
    "            else:\n",
    "                if nums[mid] < target and target <= nums[right]:\n",
    "                    left = mid + 1\n",
    "                else:\n",
    "                    right = mid - 1\n",
    "\n",
    "        return -1\n",
    "\n",
    "\n",
    "\n",
    "nums = [4,5,6,7,0,1,2]\n",
    "target = 0\n",
    "s = Solution()\n",
    "print(s.search(nums, target))"
   ]
  },
  {
   "cell_type": "markdown",
   "metadata": {},
   "source": [
    "二叉搜索"
   ]
  },
  {
   "cell_type": "code",
   "execution_count": null,
   "metadata": {},
   "outputs": [],
   "source": [
    "class Solution:\n",
    "    def search(self, arr: list, target: int) -> int:\n",
    "        left = 0\n",
    "        right = len(arr) - 1\n",
    "        while left < right:\n",
    "            mid = left + (right - left)//2\n",
    "            if arr[mid] < target:\n",
    "                left = mid+1\n",
    "            elif arr[mid] > target:\n",
    "                right = mid\n",
    "            return left if arr[left] == target else -1\n",
    "\n",
    "if __name__ == '__main__':\n",
    "    arr = [-1, 0, 13, 9, 5, 7, 11]\n",
    "    target = 9\n",
    "    S = Solution()\n",
    "    S.search(arr, target)"
   ]
  },
  {
   "cell_type": "markdown",
   "metadata": {},
   "source": [
    "LCR 152. 验证二叉搜索树的后序遍历序列\n",
    "\n",
    "请实现一个函数来判断整数数组 postorder 是否为二叉搜索树的后序遍历结果。\n",
    "\n",
    "\n",
    "输入: postorder = [4,9,6,5,8]\n",
    "输出: false \n",
    "解释：从上图可以看出这不是一颗二叉搜索树\n",
    "\n",
    "输入: postorder = [4,6,5,9,8]\n",
    "输出: true \n",
    "解释：可构建的二叉搜索树如上图"
   ]
  },
  {
   "cell_type": "code",
   "execution_count": 2,
   "metadata": {},
   "outputs": [
    {
     "name": "stdout",
     "output_type": "stream",
     "text": [
      "False\n"
     ]
    }
   ],
   "source": [
    "from typing import List\n",
    "# 二叉搜索树的定义是：左子树所有节点值 < 根节点值，右子树所有节点值 > 根节点值。\n",
    "class Solution:\n",
    "    def verifyTreeOrder(self, postorder: List[int]) -> bool:\n",
    "        def verify(left, right):\n",
    "            if left > right:\n",
    "                return True\n",
    "            index = left\n",
    "            while postorder[index] < postorder[right]:\n",
    "                index += 1\n",
    "            mid = index\n",
    "            while postorder[index] > postorder[right]:\n",
    "                index += 1\n",
    "            \n",
    "            return index == right and verify(left, mid - 1) and verify(mid, right - 1)\n",
    "        \n",
    "        if len(postorder) < 2:\n",
    "            return True\n",
    "        return verify(0, len(postorder) - 1)\n",
    "    \n",
    "\n",
    "postorder = [4,9,6,5,8]\n",
    "s = Solution()\n",
    "print(s.verifyTreeOrder(postorder))"
   ]
  }
 ],
 "metadata": {
  "kernelspec": {
   "display_name": "base",
   "language": "python",
   "name": "python3"
  },
  "language_info": {
   "codemirror_mode": {
    "name": "ipython",
    "version": 3
   },
   "file_extension": ".py",
   "mimetype": "text/x-python",
   "name": "python",
   "nbconvert_exporter": "python",
   "pygments_lexer": "ipython3",
   "version": "3.9.18"
  },
  "orig_nbformat": 4
 },
 "nbformat": 4,
 "nbformat_minor": 2
}
